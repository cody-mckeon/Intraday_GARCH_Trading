{
 "cells": [
  {
   "cell_type": "markdown",
   "id": "fea45a21-6e1d-41b7-8611-5c21c5aa5ae2",
   "metadata": {},
   "source": [
    "<h3>Intraday Strategy Using GARCH Model.</h3>\n",
    "<ul>\n",
    "    <li>Using simulated daily data and intraday 5-min data.</li>\n",
    "    <li>Load Daily and 5-minute data.</li>\n",
    "    <li>Define funtion to fit GARCH model on the daily data and predict 1-day ahead volatility in a rolling window.</li>\n",
    "    <li>Calculate predication premium and form a daily signla from it.</li>\n",
    "    <li>Merge with intraday data and calculate intraday indicators to form the intraday signal.</li>\n",
    "    <li>Generate the position entry and hold until the end of the day.</li>\n",
    "    <li>Calculate final strategy returns.</li>\n",
    "</ul>"
   ]
  },
  {
   "cell_type": "markdown",
   "id": "781279bc-397c-4f4d-8f12-ed7209e3ca6c",
   "metadata": {},
   "source": [
    "<h3>1. Load Simulated Daily and Simulated 5-minute data.</h3>\n",
    "<ul>\n",
    "    <li>We are loading both datasets, set the indexes and calculate daily log returns.</li>\n",
    "</ul>"
   ]
  },
  {
   "cell_type": "code",
   "execution_count": 15,
   "id": "e49daeaa-329d-4a32-98e0-090ac544b264",
   "metadata": {},
   "outputs": [
    {
     "data": {
      "text/plain": [
       "array([datetime.date(2021, 9, 29), datetime.date(2021, 9, 29),\n",
       "       datetime.date(2021, 9, 29), ..., datetime.date(2023, 9, 20),\n",
       "       datetime.date(2023, 9, 20), datetime.date(2023, 9, 20)],\n",
       "      dtype=object)"
      ]
     },
     "execution_count": 15,
     "metadata": {},
     "output_type": "execute_result"
    }
   ],
   "source": [
    "import matplotlib.pyplot as plt\n",
    "from arch import arch_model\n",
    "import pandas as pd\n",
    "import numpy as np\n",
    "import os\n",
    "\n",
    "# Define the path to the folder containing the data files.\n",
    "# This path will be used to load CSV files containing daily and intraday data.\n",
    "# data_folder = '/Users/codymckeon/Library/Mobile Documents/com~apple~CloudDocs/ml_projects/unsupervised/intraday_garch_model/data'\n",
    "\n",
    "# Load the simulated daily data from a CSV file into a pandas DataFrame.\n",
    "# The CSV file is expected to contain columns like 'Date' and 'Adj Close'.\n",
    "# daily_df = pd.read_csv(os.path.join(data_folder, 'simulated_daily_data.csv'))\n",
    "\n",
    "# Convert the 'Date' column in the daily data to datetime format.\n",
    "# This is essential for time-series analysis and setting the date as an index.\n",
    "# daily_df[\"Date\"]= pd.to_datetime(daily_df['Date'])\n",
    "\n",
    "# Set the 'Date' column as the index of the DataFrame.\n",
    "# This allows for easier time-series operations, such as resampling or filtering by date.\n",
    "# daily_df = daily_df.set_index('Date')\n",
    "\n",
    "# Calculate the logarithmic returns based on the 'Adj Close' prices.\n",
    "# The log returns are computed by taking the natural log of the adjusted close price and then differencing it.\n",
    "# This is a common transformation used in financial analysis to analyze returns.\n",
    "# daily_df['log_ret'] = np.log(daily_df['Adj Close']).diff()\n",
    "\n",
    "# Load the simulated intraday 5-minute data from a CSV file into a pandas DataFrame.\n",
    "# The CSV file is expected to contain columns like 'datetime' and other relevant financial data.\n",
    "# intraday_5min_df = pd.read_csv(os.path.join(data_folder, 'simulated_5min_data.csv'))\n",
    "\n",
    "# Convert the 'datetime' column in the intraday data to datetime format.\n",
    "# This ensures that the timestamp is correctly interpreted for time-series analysis.\n",
    "# intraday_5min_df['datetime'] = pd.to_datetime(intraday_5min_df['datetime'])\n",
    "\n",
    "# Set the 'datetime' column as the index of the DataFrame.\n",
    "# This allows for easier time-series operations, such as filtering or aggregating data by time intervals.\n",
    "# intraday_5min_df = intraday_5min_df.set_index('datetime')\n",
    "# intraday_5min_df\n",
    "\n",
    "\n",
    "# Convert the 'Unnamed: 6' column (which likely represents an additional timestamp or date) to datetime format.\n",
    "# This step is crucial if this column is to be used for further time-based operations.\n",
    "# intraday_5min_df['Unnamed: 6'] = pd.to_datetime(intraday_5min_df['Unnamed: 6']) \n",
    "\n",
    "# Extract only the date component from the index of the intraday data.\n",
    "# This could be useful for aligning intraday data with daily data or performing date-based groupings.\n",
    "# intraday_5min_df.index.date"
   ]
  },
  {
   "cell_type": "markdown",
   "id": "6f371812-2dc2-4114-b313-c446c91630e2",
   "metadata": {},
   "source": [
    "<h3>2. Define function to fit GARCH model and predict 1-day ahead volatility in a rolling window. </h3>\n",
    "<ul>\n",
    "    <li>We are first calculating the 6-month rolling variance and then we are creating a function in a 6-month rolling window to fit a garch model and predict the next day variance.</li>\n",
    "</ul>"
   ]
  },
  {
   "cell_type": "code",
   "execution_count": null,
   "id": "985ef8c0-6163-4122-9050-2b9c01ef4b92",
   "metadata": {},
   "outputs": [],
   "source": []
  }
 ],
 "metadata": {
  "kernelspec": {
   "display_name": "Python venv garch",
   "language": "python",
   "name": "venv"
  },
  "language_info": {
   "codemirror_mode": {
    "name": "ipython",
    "version": 3
   },
   "file_extension": ".py",
   "mimetype": "text/x-python",
   "name": "python",
   "nbconvert_exporter": "python",
   "pygments_lexer": "ipython3",
   "version": "3.11.7"
  }
 },
 "nbformat": 4,
 "nbformat_minor": 5
}
